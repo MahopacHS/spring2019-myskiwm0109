{
  "cells": [
    {
      "metadata": {},
      "cell_type": "markdown",
      "source": "## Load the 7 day forecast from DarkSky.Net into Pandas!\n\nIn this example you will go back to https://api.darksky.net and use your API key to get the current weather forecast for:\n\nSyrcause, NY `(lat=43.0481221, lng=-76.1474244)`\n\nIn the forecast output, find the daily 7 day forecast (it's the current conditions + 7 days out == 8 days total)\n\nExtract the forecast data and load it into Pandas, then display the Time of the forecast, and high and low temperatures:\n\n**HINT**: To get the times to show up in a human-readable format, you must convert the DarkSky API time (which is in unix timestamp format) to a Pandas Timestamp date/time format. The `pd.to_datetime()` function can help you:\n\n```\ntime = 1489402800 # this the time format Darksky returns\nreadable_time = pd.to_datetime(time, unit='s') ## s stands for unix timestamp format\nreadable_time\n\nTimestamp('2017-03-13 11:00:00')\n```\n\nJust replace the `['time']` column in the `DataFrame` with the new version."
    },
    {
      "metadata": {},
      "cell_type": "markdown",
      "source": "## Step 1: Problem Analysis for entire program\n\nInputs: \n\nOutputs:\n\nAlgorithm (Steps in Program):\n"
    },
    {
      "metadata": {
        "trusted": true
      },
      "cell_type": "code",
      "source": "# STEP 2: Todo write code here\nurl = 'https://darksky.net/dev/docs/time-machine'\noptions = { 'q' : search, 'format' : 'json'}\nresponse = requests.get(url, params = options)            \ngeodata = response.json()\ncoords = { 'lat' : float(geodata[0]['lat']), 'lng' : float(geodata[0]['lon']) }\nlocation = input(\"Enter a location: \")\ncoords = get_coordinates(location)\ntemperature = geodata[0]['temperatureMax']\ntemperature = geodata[0]['temperatureMin']\ndate_time = input(\"Enter date and time int this format, YYYY-MM-DDThh:mm:ss\")\nprint(pd.to_datetime(date_time))\n\ntime_tempMin_series = temperatureMin['time'].value_counts()\ntime_tempMax_series = temperatureMax['time'].value_counts()\n \ntime_comparision_df = pd.DataFrame({ 'temperatureMin' : time_tempMin_series, 'temperatureMax' : time_temperatureMax_series })\ntime_comparision_df['TimeComp'] = time_comparision_df['temperatureMax'] / time_comparision_df['temperatureMin']\ntime_comparision_df",
      "execution_count": null,
      "outputs": []
    },
    {
      "metadata": {
        "collapsed": true,
        "trusted": false
      },
      "cell_type": "code",
      "source": "",
      "execution_count": null,
      "outputs": []
    },
    {
      "metadata": {
        "trusted": false
      },
      "cell_type": "code",
      "source": "# Here's my output from when I ran the solution, to give you an example of what I expect",
      "execution_count": 19,
      "outputs": [
        {
          "data": {
            "text/html": "<div>\n<table border=\"1\" class=\"dataframe\">\n  <thead>\n    <tr style=\"text-align: right;\">\n      <th></th>\n      <th>time</th>\n      <th>temperatureMin</th>\n      <th>temperatureMax</th>\n    </tr>\n  </thead>\n  <tbody>\n    <tr>\n      <th>0</th>\n      <td>2017-03-13 04:00:00</td>\n      <td>8.74</td>\n      <td>25.01</td>\n    </tr>\n    <tr>\n      <th>1</th>\n      <td>2017-03-14 04:00:00</td>\n      <td>17.85</td>\n      <td>25.42</td>\n    </tr>\n    <tr>\n      <th>2</th>\n      <td>2017-03-15 04:00:00</td>\n      <td>15.93</td>\n      <td>22.90</td>\n    </tr>\n    <tr>\n      <th>3</th>\n      <td>2017-03-16 04:00:00</td>\n      <td>17.23</td>\n      <td>29.19</td>\n    </tr>\n    <tr>\n      <th>4</th>\n      <td>2017-03-17 04:00:00</td>\n      <td>17.25</td>\n      <td>36.15</td>\n    </tr>\n    <tr>\n      <th>5</th>\n      <td>2017-03-18 04:00:00</td>\n      <td>26.74</td>\n      <td>38.07</td>\n    </tr>\n    <tr>\n      <th>6</th>\n      <td>2017-03-19 04:00:00</td>\n      <td>25.69</td>\n      <td>32.82</td>\n    </tr>\n    <tr>\n      <th>7</th>\n      <td>2017-03-20 04:00:00</td>\n      <td>13.76</td>\n      <td>37.08</td>\n    </tr>\n  </tbody>\n</table>\n</div>",
            "text/plain": "                 time  temperatureMin  temperatureMax\n0 2017-03-13 04:00:00            8.74           25.01\n1 2017-03-14 04:00:00           17.85           25.42\n2 2017-03-15 04:00:00           15.93           22.90\n3 2017-03-16 04:00:00           17.23           29.19\n4 2017-03-17 04:00:00           17.25           36.15\n5 2017-03-18 04:00:00           26.74           38.07\n6 2017-03-19 04:00:00           25.69           32.82\n7 2017-03-20 04:00:00           13.76           37.08"
          },
          "execution_count": 19,
          "metadata": {},
          "output_type": "execute_result"
        }
      ]
    },
    {
      "metadata": {},
      "cell_type": "markdown",
      "source": "## Step 3: Questions\n\n1. Pandas programs are different than typical Python programs. Explain the process by which you got the final solution?\nDidn't find the final solution\n2. What was the most difficult aspect of this assignment? \nGetting the API to display the date and time"
    },
    {
      "metadata": {},
      "cell_type": "markdown",
      "source": "## Reminder of Evaluation Criteria\n\n1. What the problem attempted (analysis, code, and answered questions) ?\n2. What the problem analysis thought out? (does the program match the plan?)\n3. Does the code execute without syntax error?\n4. Does the code solve the intended problem?\n5. Is the code well written? (easy to understand, modular, and self-documenting, handles errors)"
    },
    {
      "metadata": {
        "trusted": false
      },
      "cell_type": "code",
      "source": "",
      "execution_count": null,
      "outputs": []
    }
  ],
  "metadata": {
    "anaconda-cloud": {},
    "kernelspec": {
      "name": "python3",
      "display_name": "Python 3",
      "language": "python"
    },
    "language_info": {
      "codemirror_mode": {
        "name": "ipython",
        "version": 3
      },
      "file_extension": ".py",
      "mimetype": "text/x-python",
      "name": "python",
      "nbconvert_exporter": "python",
      "pygments_lexer": "ipython3",
      "version": "3.5.2"
    }
  },
  "nbformat": 4,
  "nbformat_minor": 1
}