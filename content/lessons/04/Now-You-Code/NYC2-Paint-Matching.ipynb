{
  "cells": [
    {
      "metadata": {},
      "cell_type": "markdown",
      "source": "# Now You Code 2: Paint Pricing\n\nHouse Depot, a big-box hardware retailer, has contracted you to create an app to calculate paint prices. \n\nThe price of paint is determined by the following factors:\n- Everyday quality paint is `$19.99` per gallon.\n- Select quality paint is `$24.99` per gallon.\n- Premium quality paint is `$32.99` per gallon.\n\nIn addition if the customer wants computerized color-matching that incurs an additional fee of `$4.99` per gallon. \n\nWrite a program to ask the user to select a paint quality: 'everyday', 'select' or 'premium' and then whether they need color matching and then outputs the price per gallon of the paint.\n\nExample Run 1:\n\n```\nWhich paint quality do you require ['everyday', 'select', 'premium'] ?select\nDo you require color matching [y/n] ?y\nTotal price of select paint with color matching is $29.98\n```\n\nExample Run 2:\n\n```\nWhich paint quality do you require ['everyday', 'select', 'premium'] ?premium\nDo you require color matching [y/n] ?n\nTotal price of premium paint without color matching is $32.99\n```"
    },
    {
      "metadata": {
        "collapsed": true
      },
      "cell_type": "markdown",
      "source": "## Step 1: Problem Analysis\n\nInputs:selection, computerized color-matching\n\nOutputs: price\n\nAlgorithm (Steps in Program): ask for selection of paint and if they want the computerized color-matching, then display total price.\n\n"
    },
    {
      "metadata": {
        "trusted": true
      },
      "cell_type": "code",
      "source": "# Step 2: Write code here\nchoices = ['everyday','select','premium']\npaint = input(\"Enter your choice of paint, everyday, select, or premium: \")\ncolor = ['yes','no']\nccm = input(\"Do you require color matching, yes or no? \")\nif (paint in choices):\n    print(\"You chose %s for paint and you chose %s for color matching\" % (paint,ccm))\n    \n    if (ccm!='yes' or 'no'):\n        print(\"You must enter yes or no!\")\n    if (paint=='everyday' and ccm=='yes'):\n        print(\"Your price is $24.98\")\n    elif (paint=='everyday' and ccm=='no'):\n        print(\"Your price is $19.99\")\n    elif (paint=='select' and ccm=='yes'):\n        print(\"Your price is $29.98\")\n    elif (paint=='select' and ccm=='no'):\n        print(\"Your price is $24.99\")\n    elif (paint=='premium' and ccm=='yes'):\n        print(\"Your price is $37.98\")\n    elif (paint=='premium' and ccm=='no'):\n        print(\"Your price is $32.99\")\nelse:\n    print(\"That is not a paint quality!\")",
      "execution_count": 7,
      "outputs": [
        {
          "output_type": "stream",
          "name": "stdout",
          "text": "Enter your choice of paint, everyday, select, or premium: premium\nDo you require color matching, yes or no? hi\nYou chose premium for paint and you chose hi for color matching\nYou must enter yes or no!\n"
        }
      ]
    },
    {
      "metadata": {},
      "cell_type": "markdown",
      "source": "## Step 3: Questions\n\n1. When you enter something other than `'everyday', 'select',` or  `'premium'` what happens? Modify the program to print `that is not a paint quality` and then exit in those cases. The program doesn't execute.\n2. What happens when you enter something other than `'y'` or `'n'` for color matching? Re-write the program to print `you must enter y or n` whenever you enter something other than those two values. It doesn't fully execute.\n3. Why can't we use Python's `try...except` in this example? There are no integers that are being entered.\n4. How many times (at minimum) must we execute this program and check the results before we can be reasonably assured it is correct? 8\n"
    },
    {
      "metadata": {},
      "cell_type": "markdown",
      "source": "## Reminder of Evaluation Criteria\n\n1. What the problem attempted (analysis, code, and answered questions) ?\n2. What the problem analysis thought out? (does the program match the plan?)\n3. Does the code execute without syntax error?\n4. Does the code solve the intended problem?\n5. Is the code well written? (easy to understand, modular, and self-documenting, handles errors)\n"
    },
    {
      "metadata": {
        "collapsed": true,
        "trusted": false
      },
      "cell_type": "code",
      "source": "",
      "execution_count": null,
      "outputs": []
    }
  ],
  "metadata": {
    "anaconda-cloud": {},
    "kernelspec": {
      "name": "python3",
      "display_name": "Python 3",
      "language": "python"
    },
    "language_info": {
      "mimetype": "text/x-python",
      "nbconvert_exporter": "python",
      "name": "python",
      "pygments_lexer": "ipython3",
      "version": "3.5.4",
      "file_extension": ".py",
      "codemirror_mode": {
        "version": 3,
        "name": "ipython"
      }
    }
  },
  "nbformat": 4,
  "nbformat_minor": 1
}