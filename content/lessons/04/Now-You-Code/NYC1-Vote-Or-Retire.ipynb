{
  "cells": [
    {
      "metadata": {},
      "cell_type": "markdown",
      "source": "# Now You Code 1: Vote or Retire?\n\n# Part 1\n\nWrite a program to ask for your age as input, then output whether or not you can vote and whether your not you can retire. Let's assume the voting age is 18 or higher, and the retirement age is 65 or higher.\n\n**NOTE:** This program is making two seprate decisions, and thus should have two separate if else statements.\n\nExample Run:\n\n```\nEnter your age: 45\nYou can vote.\nYou cannot retire.\n```\n"
    },
    {
      "metadata": {
        "collapsed": true
      },
      "cell_type": "markdown",
      "source": "## Step 1: Problem Analysis\n\nInputs: age\n\nOutputs: vote, retire\n\nAlgorithm (Steps in Program): ask for age, say whether they can vote or not and retire or not using two if, else statements.\n\n\n"
    },
    {
      "metadata": {
        "trusted": true
      },
      "cell_type": "code",
      "source": "#Step 2: write code here\nage = int(input(\"Enter your age: \"))\nif (age>=18):\n    print(\"You can vote\")\nelse: print(\"You can't vote\")\n\nif (age>=65):\n    print(\"You can retire\")\nelse: print(\"You can't retire\")",
      "execution_count": 5,
      "outputs": [
        {
          "output_type": "stream",
          "name": "stdout",
          "text": "Enter your age: three\n"
        },
        {
          "output_type": "error",
          "ename": "ValueError",
          "evalue": "invalid literal for int() with base 10: 'three'",
          "traceback": [
            "\u001b[0;31m---------------------------------------------------------------------------\u001b[0m",
            "\u001b[0;31mValueError\u001b[0m                                Traceback (most recent call last)",
            "\u001b[0;32m<ipython-input-5-1d7bdb669f71>\u001b[0m in \u001b[0;36m<module>\u001b[0;34m()\u001b[0m\n\u001b[1;32m      1\u001b[0m \u001b[0;31m#Step 2: write code here\u001b[0m\u001b[0;34m\u001b[0m\u001b[0;34m\u001b[0m\u001b[0m\n\u001b[0;32m----> 2\u001b[0;31m \u001b[0mage\u001b[0m \u001b[0;34m=\u001b[0m \u001b[0mint\u001b[0m\u001b[0;34m(\u001b[0m\u001b[0minput\u001b[0m\u001b[0;34m(\u001b[0m\u001b[0;34m\"Enter your age: \"\u001b[0m\u001b[0;34m)\u001b[0m\u001b[0;34m)\u001b[0m\u001b[0;34m\u001b[0m\u001b[0m\n\u001b[0m\u001b[1;32m      3\u001b[0m \u001b[0;32mif\u001b[0m \u001b[0;34m(\u001b[0m\u001b[0mage\u001b[0m\u001b[0;34m>=\u001b[0m\u001b[0;36m18\u001b[0m\u001b[0;34m)\u001b[0m\u001b[0;34m:\u001b[0m\u001b[0;34m\u001b[0m\u001b[0m\n\u001b[1;32m      4\u001b[0m     \u001b[0mprint\u001b[0m\u001b[0;34m(\u001b[0m\u001b[0;34m\"You can vote\"\u001b[0m\u001b[0;34m)\u001b[0m\u001b[0;34m\u001b[0m\u001b[0m\n\u001b[1;32m      5\u001b[0m \u001b[0;32melse\u001b[0m\u001b[0;34m:\u001b[0m \u001b[0mprint\u001b[0m\u001b[0;34m(\u001b[0m\u001b[0;34m\"You can't vote\"\u001b[0m\u001b[0;34m)\u001b[0m\u001b[0;34m\u001b[0m\u001b[0m\n",
            "\u001b[0;31mValueError\u001b[0m: invalid literal for int() with base 10: 'three'"
          ]
        }
      ]
    },
    {
      "metadata": {},
      "cell_type": "markdown",
      "source": "# Part 2\n\nNow that you got it working,  re-write your code to handle bad input using Python's `try... except` statement:\n\nExample run:\n\n```\nEnter your age: threve\nThat's not an age!\n```\n\n**Note:** Exception handling is not part of our algorithm. It's a programming concern, not a problem-solving concern!"
    },
    {
      "metadata": {
        "trusted": true
      },
      "cell_type": "code",
      "source": "## Step 2 (again): write code again but handle errors with try...except\ntry:\n    age = int(input(\"Enter your age: \"))\n    if (age<0):\n        print(\"That's not an age!\")   \n    if (age>=18):\n    print(\"You can vote\")\n    else: print(\"You can't vote\")\n    if (age>=65):\n        print(\"You can retire\")\n    else: print(\"You can't retire\")   \nexcept ValueError:\n    print(\"That's not an age!\")",
      "execution_count": 15,
      "outputs": [
        {
          "output_type": "stream",
          "name": "stdout",
          "text": "Enter your age: -80\nThat's not an age!\nYou can't vote\nYou can't retire\n"
        }
      ]
    },
    {
      "metadata": {},
      "cell_type": "markdown",
      "source": "## Step 3: Questions\n\n1. What specific Python Error are we handling (please provide the name of it)? value error\n2. What happens when you enter an age of `-50`? Does the program still run? Fix your program so that it says `That's not an age` when a value less than zero is entered. The program does still work.\n3. How many times (at minimum) must we execute this program and check the results before we can be reasonably assured it is correct? five times\n"
    },
    {
      "metadata": {},
      "cell_type": "markdown",
      "source": "## Reminder of Evaluation Criteria\n\n1. What the problem attempted (analysis, code, and answered questions) ?\n2. What the problem analysis thought out? (does the program match the plan?)\n3. Does the code execute without syntax error?\n4. Does the code solve the intended problem?\n5. Is the code well written? (easy to understand, modular, and self-documenting, handles errors)\n"
    },
    {
      "metadata": {
        "collapsed": true,
        "trusted": false
      },
      "cell_type": "code",
      "source": "",
      "execution_count": null,
      "outputs": []
    }
  ],
  "metadata": {
    "anaconda-cloud": {},
    "kernelspec": {
      "name": "python3",
      "display_name": "Python 3",
      "language": "python"
    },
    "language_info": {
      "mimetype": "text/x-python",
      "nbconvert_exporter": "python",
      "name": "python",
      "pygments_lexer": "ipython3",
      "version": "3.5.4",
      "file_extension": ".py",
      "codemirror_mode": {
        "version": 3,
        "name": "ipython"
      }
    }
  },
  "nbformat": 4,
  "nbformat_minor": 1
}