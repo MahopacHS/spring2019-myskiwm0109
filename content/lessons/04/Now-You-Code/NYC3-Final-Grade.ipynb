{
  "cells": [
    {
      "metadata": {},
      "cell_type": "markdown",
      "source": "# Now You Code 3: Final Grade in IST256\n\n# Part 1\n\nOur Course Syllabus has a grading scale here:\n\nhttp://ist256.syr.edu/syllabus/#grading-scale\n\nWrite a Python program to input a number of points earned out of 600 and then\noutputs the registrar letter grade. \n\nFor example:\n\n    IST256 Grade Calculator\n    Enter total points out of 600:  550\n    Grade: A- \n"
    },
    {
      "metadata": {
        "collapsed": true
      },
      "cell_type": "markdown",
      "source": "## Step 1: Problem Analysis\n\nInputs: Grade\n\nOutputs: Letter grade\n\nAlgorithm (Steps in Program): input grade, use if else to put the grade in a range and then output its letter grade.\n\n\n"
    },
    {
      "metadata": {
        "trusted": true
      },
      "cell_type": "code",
      "source": "#Step 2: write code here\ngrade = float(input(\"Enter your number grade here: \"))\nif (299>=grade>=0):\n    print(\"You have an F\")\nelif (359>=grade>=300):\n    print(\"You have a D\")\nelif (389>=grade>=360):\n    print(\"You have a C-\")\nelif (419>=grade>=390):\n    print(\"You have a C\")\nelif (449>=grade>=420):\n    print(\"You have a C+\")\nelif (479>=grade>=450):\n    print(\"You have a B-\")\nelif (509>=grade>=480):\n    print(\"You have a B\")\nelif (539>=grade>=510):\n    print(\"You have a B+\")\nelif (569>=grade>=540):\n    print(\"You have an A-\")\nelif (600>=grade>=570):\n    print(\"You have an A\")",
      "execution_count": 10,
      "outputs": [
        {
          "output_type": "stream",
          "name": "stdout",
          "text": "Enter your number grade here: -50\n"
        }
      ]
    },
    {
      "metadata": {},
      "cell_type": "markdown",
      "source": "# Part 2\n\nNow that you got it working,  re-write your code to handle bad input. Specifically:\n\n\n- non integer values\n- integer values outside the 0 to 600 range.\n\n**Note:** Exception handling is not part of our algorithm. It's a programming concern, not a problem-solving concern!"
    },
    {
      "metadata": {
        "trusted": true
      },
      "cell_type": "code",
      "source": "## Step 2 (again): write code again but handle errors with try...except\ntry:\n    grade = float(input(\"Enter your number grade here: \"))\n    if (grade>600) or (grade<0):\n        print(\"This is not a valid grade!\")\n    elif (299>=grade>=0):\n        print(\"You have an F\")\n    elif (359>=grade>=300):\n        print(\"You have a D\")\n    elif (389>=grade>=360):\n        print(\"You have a C-\")\n    elif (419>=grade>=390):\n        print(\"You have a C\")\n    elif (449>=grade>=420):\n        print(\"You have a C+\")\n    elif (479>=grade>=450):\n        print(\"You have a B-\")\n    elif (509>=grade>=480):\n        print(\"You have a B\")\n    elif (539>=grade>=510):\n        print(\"You have a B+\")\n    elif (569>=grade>=540):\n        print(\"You have an A-\")\n    elif (600>=grade>=570):\n        print(\"You have an A\")\nexcept ValueError:\n    print(\"That's not a valid grade!\")",
      "execution_count": 12,
      "outputs": [
        {
          "output_type": "stream",
          "name": "stdout",
          "text": "Enter your number grade here: 601\nThis is not a valid grade!\n"
        }
      ]
    },
    {
      "metadata": {},
      "cell_type": "markdown",
      "source": "## Step 3: Questions\n\n1. What specific Python Error are we handling (please provide the name of it)? ValueError\n2. How many times must you execute this program and check the output before you canbe reasonably assured your code is correct? Explain. 12 for each different possible output outcome.\n3. When testing this program do you think its more important to test numbers in the middle of the grade range or exactly on the boundary between one grade range and the next. Justify your response. Between one grade range and the next because there is more of a possibility of there being a problem in those kinds of situations because you could have messed up your code and the number could come up as the wrong letter."
    },
    {
      "metadata": {},
      "cell_type": "markdown",
      "source": "## Reminder of Evaluation Criteria\n\n1. What the problem attempted (analysis, code, and answered questions) ?\n2. What the problem analysis thought out? (does the program match the plan?)\n3. Does the code execute without syntax error?\n4. Does the code solve the intended problem?\n5. Is the code well written? (easy to understand, modular, and self-documenting, handles errors)\n"
    }
  ],
  "metadata": {
    "anaconda-cloud": {},
    "kernelspec": {
      "name": "python3",
      "display_name": "Python 3",
      "language": "python"
    },
    "language_info": {
      "mimetype": "text/x-python",
      "nbconvert_exporter": "python",
      "name": "python",
      "pygments_lexer": "ipython3",
      "version": "3.5.4",
      "file_extension": ".py",
      "codemirror_mode": {
        "version": 3,
        "name": "ipython"
      }
    }
  },
  "nbformat": 4,
  "nbformat_minor": 1
}