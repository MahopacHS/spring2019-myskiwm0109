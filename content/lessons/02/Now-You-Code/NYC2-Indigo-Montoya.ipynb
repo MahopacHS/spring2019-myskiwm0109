{
  "cells": [
    {
      "metadata": {},
      "cell_type": "markdown",
      "source": "# Now You Code 2: Indigo Montoya\n\n[The Pricess Bride](https://www.rottentomatoes.com/m/princess_bride/) is an adventure film from the 80's, a true cult classic. One of the many notable scenes involves a character Indigo Montoya who explains his character's motivation for revenge through the catch-phase:\n\n\"Hello. My name is Indigo Montoya. You killed my father. Prepare to die!\"\n\nYou can watch the clip here: [https://www.youtube.com/watch?v=YY4cnMmo9qw](https://www.youtube.com/watch?v=YY4cnMmo9qw)\n\nWrite a program in Python which asks the user to enter **your name**, a **relative** and an **past-tense action**. For example if you enter \"Indigo Montoya\", \"Father\" and \"killed\", the program will then output:\n\n\"Hello. My name is Indigo Montoya. You killed my father. Prepare to die!\"\n\nOr you could input \"Mike Fudge\", \"Uncle\" and \"Tickled\" to get:\n\n\"Hello. My name is Mike Fudge. You Tickled my Uncle. Prepare to die!\"\n"
    },
    {
      "metadata": {
        "collapsed": true
      },
      "cell_type": "markdown",
      "source": "## Step 1: Problem Analysis\n\nInputs:your name, relative, past-tense action\n\nOutputs: \"Hello. My name is 'name.' You 'action' my 'relative'. Prepare to die!\"\n\nAlgorithm (Steps in Program):"
    },
    {
      "metadata": {
        "trusted": false
      },
      "cell_type": "code",
      "source": "# Step 2: Write code here\nyour_name = input(\"Enter your name:\")\nrelative = input(\"Enter a relative:\")\npast_tense_action = input(\"Enter a past-tense action:\")\nprint(\"Hello. My name is \"your_name\". You \"past_tense_action\" my \"relative\". Prepare to die!\")",
      "execution_count": 4,
      "outputs": []
    },
    {
      "metadata": {},
      "cell_type": "markdown",
      "source": "## Step 3: Questions\n\n1. What happens when neglect the instructions and enter a past-tense action instead of a name? Does the code still run? Why? still runs but the sentence is messed up because you are still entering something for the input and the program can't tell that you entered an action instead of a name.\n2. What type of error it when the program runs but does not handle bad input? Syntax Error\n3. Is there anything you can do in code to correct this type of error? Why or why not? No because the program can't differentiate between a name and a past-tense action."
    },
    {
      "metadata": {},
      "cell_type": "markdown",
      "source": "## Reminder of Evaluation Criteria\n\n1. What the problem attempted (analysis, code, and answered questions) ?\n2. What the problem analysis thought out? (does the program match the plan?)\n3. Does the code execute without syntax error?\n4. Does the code solve the intended problem?\n5. Is the code well written? (easy to understand, modular, and self-documenting, handles errors)\n"
    },
    {
      "metadata": {
        "collapsed": true,
        "trusted": false
      },
      "cell_type": "code",
      "source": "",
      "execution_count": null,
      "outputs": []
    }
  ],
  "metadata": {
    "anaconda-cloud": {},
    "kernelspec": {
      "name": "python3",
      "display_name": "Python 3",
      "language": "python"
    },
    "language_info": {
      "codemirror_mode": {
        "name": "ipython",
        "version": 3
      },
      "file_extension": ".py",
      "mimetype": "text/x-python",
      "name": "python",
      "nbconvert_exporter": "python",
      "pygments_lexer": "ipython3",
      "version": "3.5.2"
    }
  },
  "nbformat": 4,
  "nbformat_minor": 1
}