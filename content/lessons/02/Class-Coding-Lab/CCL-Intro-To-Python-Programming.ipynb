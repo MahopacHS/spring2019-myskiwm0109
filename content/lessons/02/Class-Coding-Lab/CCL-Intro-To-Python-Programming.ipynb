{
  "cells": [
    {
      "metadata": {},
      "cell_type": "markdown",
      "source": "# Class Coding Lab: Introduction to Programming\n\nThe goals of this lab are to help you to understand:\n\n1. the Jupyter and IDLE programming environments\n1. basic Python Syntax\n2. variables and their use\n3. how to sequence instructions together into a cohesive program\n4. the input() function for input and print() function for output\n"
    },
    {
      "metadata": {
        "collapsed": true
      },
      "cell_type": "markdown",
      "source": "## Let's start with an example: Hello, world!\n\nThis program asks for your name as input, then says hello to you as output. Most often it's the first program you write when learning a new programming language. Click in the cell below and click the run cell button."
    },
    {
      "metadata": {
        "trusted": false
      },
      "cell_type": "code",
      "source": "your_name = input(\"What is your name? \")\nprint('Hello there',your_name)",
      "execution_count": null,
      "outputs": []
    },
    {
      "metadata": {},
      "cell_type": "markdown",
      "source": "Believe it or not there's a lot going on in this simple two-line program, so let's break it down.\n\n - The first line:\n  - Asks you for input, prompting you `What is your Name?`\n  - It then stores your input in the variable `your_name` \n - The second line:\n  - prints out the following text: `Hello there`\n  - then prints out the contents of the variable `your_name`\n\nAt this point you might have a few questions. What is a variable? Why do I need it? Why is this two lines? Etc... All will be revealed in time."
    },
    {
      "metadata": {},
      "cell_type": "markdown",
      "source": "## Variables\n\nVariables are names in our code which store values. I think of variables as cardboard boxes. Boxes hold things. Variables hold things. The name of the variable is on the ouside of the box (that way you know which box it is), and value of the variable represents the contents of the box. \n\n### Variable Assignment\n\n**Assignment** is an operation where we store data in our variable. It's like packing something up in the box.\n\nIn this example we assign the value \"USA\" to the variable **country**"
    },
    {
      "metadata": {
        "collapsed": true,
        "trusted": false
      },
      "cell_type": "code",
      "source": "# Here's an example of variable assignment. Wre\ncountry = 'USA'",
      "execution_count": null,
      "outputs": []
    },
    {
      "metadata": {},
      "cell_type": "markdown",
      "source": "### Variable Access  \n\nWhat good is storing data if you cannot retrieve it? Lucky for us, retrieving the data in variable is as simple as calling its name:"
    },
    {
      "metadata": {
        "trusted": false
      },
      "cell_type": "code",
      "source": "country # This should say 'USA'",
      "execution_count": null,
      "outputs": []
    },
    {
      "metadata": {},
      "cell_type": "markdown",
      "source": "At this point you might be thinking: Can I overwrite a variable? The answer, of course, is yes! Just re-assign it a different value:"
    },
    {
      "metadata": {
        "collapsed": true,
        "trusted": false
      },
      "cell_type": "code",
      "source": "country = 'Canada'",
      "execution_count": null,
      "outputs": []
    },
    {
      "metadata": {},
      "cell_type": "markdown",
      "source": "You can also access a variable multiple times. Each time it simply gives you its value:"
    },
    {
      "metadata": {
        "trusted": false
      },
      "cell_type": "code",
      "source": "country, country, country",
      "execution_count": null,
      "outputs": []
    },
    {
      "metadata": {},
      "cell_type": "markdown",
      "source": "### The Purpose Of Variables\n\nVariables play an vital role in programming. Computer instructions have no memory of each other. That is one line of code has no idea what is happening in the other lines of code. The only way we can \"connect\" what happens from one line to the next is through variables. \n\nFor example, if we re-write the Hello, World program at the top of the page without variables, we get the following:\n"
    },
    {
      "metadata": {
        "trusted": false
      },
      "cell_type": "code",
      "source": "input(\"What is your name? \")\nprint('Hello there')",
      "execution_count": null,
      "outputs": []
    },
    {
      "metadata": {},
      "cell_type": "markdown",
      "source": "When you execute this program, notice there is no longer a connection between the input and the output. In fact, the input on line 1 doesn't matter because the output on line 2 doesn't know about it. It cannot because we never stored the results of the input into a variable!"
    },
    {
      "metadata": {},
      "cell_type": "markdown",
      "source": "### What's in a name? Um, EVERYTHING\n\nComputer code serves two equally important purposes:\n\n1. To solve a problem (obviously)\n2. To communicate hwo you solved problem to another person (hmmm... I didn't think of that!)\n\nIf our code does something useful, like land a rocket, predict the weather, or calculate month-end account balances then the chances are 100% certain that *someone else will need to read and understand our code.*  \n\nTherefore it's just as important we develop code that is easilty understood by both the computer and our colleagues.\n\nThis starts with the names we choose for our variables. Consider the following program:"
    },
    {
      "metadata": {
        "trusted": false
      },
      "cell_type": "code",
      "source": "y = input(\"Enter your city: \")\nx = input(\"Enter your state: \")\nprint(x,y,'is a nice place to live')",
      "execution_count": null,
      "outputs": []
    },
    {
      "metadata": {},
      "cell_type": "markdown",
      "source": "What do `x` and `y` represent? Is there a semantic (design) error in this program? The inputs. X should be city and y should be the state.\n\nYou might find it easy to figure out the answers to these questions, but consider this more human-friendly version:"
    },
    {
      "metadata": {
        "trusted": false
      },
      "cell_type": "code",
      "source": "state = input(\"Enter your city: \")\ncity = input(\"Enter your state: \")\nprint(city,state,'is a nice place to live')",
      "execution_count": null,
      "outputs": []
    },
    {
      "metadata": {},
      "cell_type": "markdown",
      "source": "Do the aptly-named variables make it easier to find the semantic errors in this second version? Yes\n\n### You Do It:\n\nFinally re-write this program so that it uses well-thought out variables AND in semantically correct:"
    },
    {
      "metadata": {
        "collapsed": true,
        "trusted": false
      },
      "cell_type": "code",
      "source": "# TODO: Code it re-write the above program to work as it should: Stating City State is a nice place to live\ncity = input(\"Enter your city: \")\nstate = input(\"Enter your state: \")\nprint(city,state,'is a nice place to live')",
      "execution_count": null,
      "outputs": []
    },
    {
      "metadata": {},
      "cell_type": "markdown",
      "source": "### Now Try This:\n\nNow try to write a program which asks for two separate inputs: your first name and your last name. The program should then output `Hello` with your first name and last name.\n\nFor example if you enter `Mike` for the first name and `Fudge` for the last name the program should output `Hello Mike Fudge`\n\n**HINTS**\n\n - Use appropriate variable names. If you need to create a two word variable name use an underscore in place of the space between the words. eg. `two_words` \n - You will need a separate set of inputs for each name.\n"
    },
    {
      "metadata": {
        "collapsed": true,
        "trusted": false
      },
      "cell_type": "code",
      "source": "# TODO: write your code here\nfirst_name = input(\"Enter your first name:\")\nlast_name = input(\"Enter your last name:\")\nprint(\"Hello \"first_name last_name)",
      "execution_count": null,
      "outputs": []
    },
    {
      "metadata": {},
      "cell_type": "markdown",
      "source": "### Variable Concatenation: Your First Operator\n\nThe `+` symbol is used to combine to variables containing text values together. Consider the following example:"
    },
    {
      "metadata": {
        "trusted": false
      },
      "cell_type": "code",
      "source": "prefix = \"re\"\nsuffix = \"ment\"\nroot = input(\"Enter a root word, like 'ship': \")\nprint( prefix + root + suffix)",
      "execution_count": 1,
      "outputs": [
        {
          "name": "stdout",
          "output_type": "stream",
          "text": "Enter a root word, like 'ship': ship\nreshipment\n"
        }
      ]
    },
    {
      "metadata": {},
      "cell_type": "markdown",
      "source": "### Now Try This\n\nWrite a program to prompt for three colors as input, then outputs those three colors as a lis, informing me which one was the middle (2nd entered) color. For example if you were to enter `red` then `green` then `blue` the program would output: `Your colors were: red, green, and blue. The middle was is green.`\n\n**HINTS**\n\n - you'll need three variables one fore each input\n - you should try to make the program output like my example. This includes commas and the word `and`. \n "
    },
    {
      "metadata": {
        "collapsed": true,
        "trusted": false
      },
      "cell_type": "code",
      "source": "# TODO: write your code here\ncolor1 = input(\"Enter a color:\")\ncolor2 = input(\"Enter a different color:\")\ncolor3 = input(\"Enter a different color:\")\nprint(\"Your colors were: \"color1, color2, \"and \"color3. \"The middle was \"color2)",
      "execution_count": null,
      "outputs": []
    },
    {
      "metadata": {
        "trusted": true
      },
      "cell_type": "code",
      "source": "",
      "execution_count": null,
      "outputs": []
    },
    {
      "metadata": {
        "trusted": true
      },
      "cell_type": "code",
      "source": "",
      "execution_count": null,
      "outputs": []
    }
  ],
  "metadata": {
    "anaconda-cloud": {},
    "kernelspec": {
      "name": "python3",
      "display_name": "Python 3",
      "language": "python"
    },
    "language_info": {
      "codemirror_mode": {
        "name": "ipython",
        "version": 3
      },
      "file_extension": ".py",
      "mimetype": "text/x-python",
      "name": "python",
      "nbconvert_exporter": "python",
      "pygments_lexer": "ipython3",
      "version": "3.6.4"
    }
  },
  "nbformat": 4,
  "nbformat_minor": 1
}