{
  "cells": [
    {
      "metadata": {},
      "cell_type": "markdown",
      "source": "# Now You Code 3: Shopping Cart\n\nIn this program you will implement an online shopping cart using a Python list of dictionary. The dictionary will contain the product name, price and quantity. \n\n\nThe program should loop continually,  asking the user to enter \n - Product name\n - Product price\n - Product quantity\n\nuntil the user enters a product name of `'checkout'` at which time the loop should break.\n\nEach time through the loop you should create a dictionary of product name, product price and product quantity then add the dictionary to a list.\n\nAfter you enter `'checkout'`  the program should show:\n\n - all the items in the cart, including their quantity and price\n - and the total amount of the order, a running sum of quantity times price\n\nNOTE: Don't worry about handling bad inputs for this exercise.\n\nExample Run:\n\n```\nE-Commerce Shopping Cart\nEnter product name or 'checkout':pencil\nEnter pencil Price:0.99\nEnter pencil Quantity:10\nEnter product name or 'checkout':calculator\nEnter calculator Price:9.99\nEnter calculator Quantity:1\nEnter product name or 'checkout':checkout\npencil 10 $0.99\ncalculator 1 $9.99\nTOTAL: $19.89\n```\n\nStart out your program by writing your TODO list of steps you'll need to solve the problem!"
    },
    {
      "metadata": {
        "collapsed": true
      },
      "cell_type": "markdown",
      "source": "## Step 1: Problem Analysis\n\nInputs:user inputs the values\n\nOutputs:shopping cart and price\n\nAlgorithm (Steps in Program):create loop that keeps asking for product name, product price and product quantity\n\n```\nwrite algorithm here\n```\n"
    },
    {
      "metadata": {
        "trusted": true
      },
      "cell_type": "code",
      "source": "# STEP 2: Write code\ncart = {}\ncart['product_name'] = product_name\ncart['product_price'] = product_price\ncart['product_quantity'] = product_quantity\nwhile product_name != 'checkout':\n    product_name = input(\"Enter product name:\")\n    product_price = input(\"Enter product price:\")\n    product_quantity = input(\"Enter product quantity:\")\n    total = product_price * product_quantity\nprint(\"%s, %s, %s\" % (cart['product_name'], cart['product_price'], cart['product_quantity']))\nprint(\"Total price is %s\" % (total))\n",
      "execution_count": 6,
      "outputs": [
        {
          "output_type": "error",
          "ename": "NameError",
          "evalue": "name 'product_name' is not defined",
          "traceback": [
            "\u001b[0;31m---------------------------------------------------------------------------\u001b[0m",
            "\u001b[0;31mNameError\u001b[0m                                 Traceback (most recent call last)",
            "\u001b[0;32m<ipython-input-6-7cc6fed312d9>\u001b[0m in \u001b[0;36m<module>\u001b[0;34m()\u001b[0m\n\u001b[1;32m      1\u001b[0m \u001b[0;31m# STEP 2: Write code\u001b[0m\u001b[0;34m\u001b[0m\u001b[0;34m\u001b[0m\u001b[0m\n\u001b[1;32m      2\u001b[0m \u001b[0mcart\u001b[0m \u001b[0;34m=\u001b[0m \u001b[0;34m{\u001b[0m\u001b[0;34m}\u001b[0m\u001b[0;34m\u001b[0m\u001b[0m\n\u001b[0;32m----> 3\u001b[0;31m \u001b[0mcart\u001b[0m\u001b[0;34m[\u001b[0m\u001b[0;34m'product_name'\u001b[0m\u001b[0;34m]\u001b[0m \u001b[0;34m=\u001b[0m \u001b[0mproduct_name\u001b[0m\u001b[0;34m\u001b[0m\u001b[0m\n\u001b[0m\u001b[1;32m      4\u001b[0m \u001b[0mcart\u001b[0m\u001b[0;34m[\u001b[0m\u001b[0;34m'product_price'\u001b[0m\u001b[0;34m]\u001b[0m \u001b[0;34m=\u001b[0m \u001b[0mproduct_price\u001b[0m\u001b[0;34m\u001b[0m\u001b[0m\n\u001b[1;32m      5\u001b[0m \u001b[0mcart\u001b[0m\u001b[0;34m[\u001b[0m\u001b[0;34m'product_quantity'\u001b[0m\u001b[0;34m]\u001b[0m \u001b[0;34m=\u001b[0m \u001b[0mproduct_quantity\u001b[0m\u001b[0;34m\u001b[0m\u001b[0m\n",
            "\u001b[0;31mNameError\u001b[0m: name 'product_name' is not defined"
          ]
        }
      ]
    },
    {
      "metadata": {},
      "cell_type": "markdown",
      "source": "## Step 3: Questions\n\n1. How does using a Python dictionary simplify this program? (Think of how you would have to write this program if you did not use a dictionary)\nIt stores all the values and makes it so that you don't have to keep making new variables.\n2. What Happens when you run the program and just type `checkout`. Does the program work as you would expect?\nThere is nothing to print and the program does not work as I would expect.\n"
    },
    {
      "metadata": {},
      "cell_type": "markdown",
      "source": "## Reminder of Evaluation Criteria\n\n1. What the problem attempted (analysis, code, and answered questions) ?\n2. What the problem analysis thought out? (does the program match the plan?)\n3. Does the code execute without syntax error?\n4. Does the code solve the intended problem?\n5. Is the code well written? (easy to understand, modular, and self-documenting, handles errors)\n"
    },
    {
      "metadata": {
        "trusted": false
      },
      "cell_type": "code",
      "source": "",
      "execution_count": null,
      "outputs": []
    }
  ],
  "metadata": {
    "anaconda-cloud": {},
    "kernelspec": {
      "name": "python3",
      "display_name": "Python 3",
      "language": "python"
    },
    "language_info": {
      "mimetype": "text/x-python",
      "nbconvert_exporter": "python",
      "name": "python",
      "file_extension": ".py",
      "version": "3.5.4",
      "pygments_lexer": "ipython3",
      "codemirror_mode": {
        "version": 3,
        "name": "ipython"
      }
    }
  },
  "nbformat": 4,
  "nbformat_minor": 1
}