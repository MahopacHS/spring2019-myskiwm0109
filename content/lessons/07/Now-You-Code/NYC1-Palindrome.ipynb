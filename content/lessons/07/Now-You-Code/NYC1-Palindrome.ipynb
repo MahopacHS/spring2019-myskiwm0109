{
  "cells": [
    {
      "metadata": {},
      "cell_type": "markdown",
      "source": "# Now You Code 1: Palindrome Detector\n\nWrite a program to detect palindromes [https://en.wikipedia.org/wiki/Palindrome]. A palindrome is defined as a word or phrase which is the same in reverse. Here's some example's of one word palindromes:\n\n```\ndad\nwow\npop\nabba\nnoon\nkayak\nmadam\nsolos\nracecar\n```\n\nThere's several ways you accomplish this but we'd recommend using Python's extended slice notation as covered in the readings. It's by far the simplest method. \n\nThe final program should take input and return whether the text is or is not a palindrome until you enter `quit`.\n\nSample run of complete program:\n\n```\nEnter text or type `quit`: dad\n'dad' is a palindrome.\nEnter text or type `quit`: pappa\n'pappa' is not a palindrome.\nEnter text or type `quit`: quit\n```\n\nOnce again we will use the problem simplification technique to writing this program.\n\nFirst we will write the `isPalindrome(text)` function, then we will write the main program.\n"
    },
    {
      "metadata": {},
      "cell_type": "markdown",
      "source": "## Step 1: Problem Analysis for isPalindrome function only\n\nInputs: none\n\nOutputs: whether or not it's a palindrome\n\nAlgorithm (Steps in Program): Ask for input, check if it's a palindrome and then send back whether it's a palindrome or not.\n\n"
    },
    {
      "metadata": {
        "trusted": true
      },
      "cell_type": "code",
      "source": "## Step 2: todo write function definition here\ndef isPalindrome(text):\n    if text[0:len(text)] == text[::-1]:\n        print(\"%s is a Palindrome\" % (text))\n        return True\n    else:\n        print(\"%s is not a Palindrome\" % (text))\n        return False",
      "execution_count": 8,
      "outputs": []
    },
    {
      "metadata": {
        "trusted": true
      },
      "cell_type": "code",
      "source": "## step 3: test the isPalindrome function to make sure it works:\nprint(\"WHEN text = 'kayak' We EXPECT isPalindrome(text) to return True Actual\", isPalindrome('kayak') )\nprint(\"WHEN text = 'mike' We EXPECT isPalindrome(text) to return False Actual\", isPalindrome('mike') )",
      "execution_count": 9,
      "outputs": [
        {
          "output_type": "stream",
          "text": "kayak is a Palindrome\nWHEN text = 'kayak' We EXPECT isPalindrome(text) to return True Actual True\nmike is not a Palindrome\nWHEN text = 'mike' We EXPECT isPalindrome(text) to return False Actual False\n",
          "name": "stdout"
        }
      ]
    },
    {
      "metadata": {},
      "cell_type": "markdown",
      "source": "## Step 4: Problem Analysis for full Program\n\nInputs: text\n\nOutputs: whether or not it's a palindrome or quit\n\nAlgorithm (Steps in Program): Ask for input, use function to check if it's a Palindrome, exit the program if user enters quit.\n\n"
    },
    {
      "metadata": {
        "trusted": true,
        "scrolled": true
      },
      "cell_type": "code",
      "source": "## Step 5: todo write code for full problem, using the isPalindrome function to help you solve the problem\nwhile True:\n    text = input(\"Enter text:\")\n    isPalindrome(text)\n    if text == \"quit\":\n        break",
      "execution_count": 18,
      "outputs": [
        {
          "output_type": "stream",
          "name": "stdout",
          "text": "Enter text:kayak\nkayak is a Palindrome\nEnter text:mike\nmike is not a Palindrome\nEnter text:hello\nhello is not a Palindrome\nEnter text:yay\nyay is a Palindrome\nEnter text:quit\nquit is not a Palindrome\n"
        }
      ]
    },
    {
      "metadata": {},
      "cell_type": "markdown",
      "source": "## Step 6: Questions\n\n1. Did you use a loop inside your `isPalindrome` function? Can you think of a way to re-factor it without a loop?\nI did not use a loop I was successful by just using an if else statement in my function.\n2. How many tests are required in step 3?\n2\n3. What is the exit condition of the loop in the full program?\nif the user plugs in quit\n"
    },
    {
      "metadata": {},
      "cell_type": "markdown",
      "source": "## Reminder of Evaluation Criteria\n\n1. What the problem attempted (analysis, code, and answered questions) ?\n2. What the problem analysis thought out? (does the program match the plan?)\n3. Does the code execute without syntax error?\n4. Does the code solve the intended problem?\n5. Is the code well written? (easy to understand, modular, and self-documenting, handles errors)\n"
    },
    {
      "metadata": {
        "collapsed": true,
        "trusted": false
      },
      "cell_type": "code",
      "source": "",
      "execution_count": null,
      "outputs": []
    }
  ],
  "metadata": {
    "anaconda-cloud": {},
    "kernelspec": {
      "name": "python3",
      "display_name": "Python 3",
      "language": "python"
    }
  },
  "nbformat": 4,
  "nbformat_minor": 1
}