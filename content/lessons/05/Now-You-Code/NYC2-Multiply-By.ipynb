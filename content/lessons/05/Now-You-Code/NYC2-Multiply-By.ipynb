{
  "cells": [
    {
      "metadata": {},
      "cell_type": "markdown",
      "source": "# Now You Code 2: Multiply By\n\nWrite a program to ask for a number to multiply by and then lists the multiplication table for that number from 1 to 10. This process will repeat until you enter quit as which point the program will exit.\n\nWow. Seems complicated! We'll use technique called problem simplification to make this problem a little easier to solve.\n\nFirst we'll write a complete program to solve *part* of the problem, then we will take our new level of understanding to solve the *entire* problem.\n\n## Start with Sub-Problem 1\n\nLet's write a program to simply input a number and then uses a loop to print out the multiplication table up to 10  for that number. \n\nFor example, when you input `5`:\n\n```\nEnter number to multiply by: 5\n1 x 5 = 5\n2 x 5 = 10\n3 x 5 = 15\n4 x 5 = 20\n5 x 5 = 25\n6 x 5 = 30\n7 x 5 = 35\n8 x 5 = 40\n9 x 5 = 45\n10 x 5 = 50\n```\n"
    },
    {
      "metadata": {
        "collapsed": true
      },
      "cell_type": "markdown",
      "source": "## Step 1: Problem Analysis for Sub-Problem 1\n\nInputs: number\n\nOutputs: number multiplied by a number\n\nAlgorithm (Steps in Program): ask for number and make a loop that increases what that number is multiplied to\n\n\n"
    },
    {
      "metadata": {
        "trusted": true,
        "scrolled": true
      },
      "cell_type": "code",
      "source": "# Step 2: write code for sub-problem 1\nnumber = int(input(\"Enter number: \"))\ncount = 0\ntotal = 1\nwhile True:\n    count = count + 1\n    total = number * count\n    print(\"%d * %d = %d\" % (count,number,total))\n    if count == 10:\n        break",
      "execution_count": 6,
      "outputs": [
        {
          "output_type": "stream",
          "name": "stdout",
          "text": "Enter number: 9\n1 * 9 = 9\n2 * 9 = 18\n3 * 9 = 27\n4 * 9 = 36\n5 * 9 = 45\n6 * 9 = 54\n7 * 9 = 63\n8 * 9 = 72\n9 * 9 = 81\n10 * 9 = 90\n"
        }
      ]
    },
    {
      "metadata": {},
      "cell_type": "markdown",
      "source": "# Full Problem \n\nNow that we've got part of the problem figured out, let's solve the entire problem. The program should keep asking for numbers and then print out multiplcation tables until you enter `quit`. Here's an example:\n\nExample Run:\n\n```\nEnter number to multiply by or type 'quit': 10\n1 x 10 = 10\n2 x 10 = 20\n3 x 10 = 30\n4 x 10 = 40\n5 x 10 = 50\n6 x 10 = 60\n7 x 10 = 70\n8 x 10 = 80\n9 x 10 = 90\n10 x 10 = 100\nEnter number to multiply by or type 'quit': 5\n1 x 5 = 5\n2 x 5 = 10\n3 x 5 = 15\n4 x 5 = 20\n5 x 5 = 25\n6 x 5 = 30\n7 x 5 = 35\n8 x 5 = 40\n9 x 5 = 45\n10 x 5 = 50\nEnter number to multiply by or type 'quit': quit\n```\n\n**NOTE:** you need another loop complete this program. Take the code you wrote in the first part and repeat it in another loop until you type quit. "
    },
    {
      "metadata": {
        "collapsed": true
      },
      "cell_type": "markdown",
      "source": "## Step 3: Problem Analysis for Full Problem\n\nInputs: number=number or quit\n\nOutputs: multiplication table or break\n\nAlgorithm (Steps in Program): Use loop above and make a loop where if the person types quit then the program stops and if they don't type quit then the loop keeps running"
    },
    {
      "metadata": {
        "trusted": true
      },
      "cell_type": "code",
      "source": "# Step 4: Write code for full problem\ncount = 0\ntotal = 1\nwhile True:\n    number = (input(\"Enter number or enter quit to end the program: \"))\n    if number == \"quit\":\n        break\n    number = int(number)\n    for count in range(10):\n    ##you need to loop these next lines from 0 to 10 without that\n    ##it is just jumping back up to ask you for another number\n        count = count + 1\n        if count == 11:\n            break\n        else:\n            total = number * count\n            print(\"%d * %d = %d\" % (count,number,total))",
      "execution_count": 17,
      "outputs": [
        {
          "output_type": "stream",
          "name": "stdout",
          "text": "Enter number or enter quit to end the program: 9\n1 * 9 = 9\n2 * 9 = 18\n3 * 9 = 27\n4 * 9 = 36\n5 * 9 = 45\n6 * 9 = 54\n7 * 9 = 63\n8 * 9 = 72\n9 * 9 = 81\n10 * 9 = 90\nEnter number or enter quit to end the program: 10\n1 * 10 = 10\n2 * 10 = 20\n3 * 10 = 30\n4 * 10 = 40\n5 * 10 = 50\n6 * 10 = 60\n7 * 10 = 70\n8 * 10 = 80\n9 * 10 = 90\n10 * 10 = 100\nEnter number or enter quit to end the program: 3\n1 * 3 = 3\n2 * 3 = 6\n3 * 3 = 9\n4 * 3 = 12\n5 * 3 = 15\n6 * 3 = 18\n7 * 3 = 21\n8 * 3 = 24\n9 * 3 = 27\n10 * 3 = 30\nEnter number or enter quit to end the program: 5\n1 * 5 = 5\n2 * 5 = 10\n3 * 5 = 15\n4 * 5 = 20\n5 * 5 = 25\n6 * 5 = 30\n7 * 5 = 35\n8 * 5 = 40\n9 * 5 = 45\n10 * 5 = 50\nEnter number or enter quit to end the program: quit\n"
        }
      ]
    },
    {
      "metadata": {},
      "cell_type": "markdown",
      "source": "# Step 4: Write code for full problem\ncount = 0\ntotal = 1\nwhile True:\n    number = (input(\"Enter number or enter quit to end the program: \"))\n    if number == \"quit\":\n        break\n    number = int(number)\n    for i in range(10):\n        count = count + 1\n        total = number * count\n        print(\"%d * %d = %d\" % (count,number,total))\n        if count == 10:\n            break\n"
    },
    {
      "metadata": {},
      "cell_type": "markdown",
      "source": "## Step 3: Questions\n\n1. What is the loop control variable for the first (outer) loop? \nnumber\n2. What is the loop control variable for the second (inner) loop?\ncount\n3. Provide at least one way this program can be improved, or make more flexible by introducing more inputs?\nYou can have an input for where you enter where you want the count to end."
    },
    {
      "metadata": {},
      "cell_type": "markdown",
      "source": "## Reminder of Evaluation Criteria\n\n1. What the problem attempted (analysis, code, and answered questions) ?\n2. What the problem analysis thought out? (does the program match the plan?)\n3. Does the code execute without syntax error?\n4. Does the code solve the intended problem?\n5. Is the code well written? (easy to understand, modular, and self-documenting, handles errors)\n"
    },
    {
      "metadata": {
        "collapsed": true,
        "trusted": false
      },
      "cell_type": "code",
      "source": "",
      "execution_count": null,
      "outputs": []
    }
  ],
  "metadata": {
    "anaconda-cloud": {},
    "kernelspec": {
      "name": "python3",
      "display_name": "Python 3",
      "language": "python"
    },
    "language_info": {
      "mimetype": "text/x-python",
      "nbconvert_exporter": "python",
      "name": "python",
      "pygments_lexer": "ipython3",
      "version": "3.5.4",
      "file_extension": ".py",
      "codemirror_mode": {
        "version": 3,
        "name": "ipython"
      }
    }
  },
  "nbformat": 4,
  "nbformat_minor": 1
}