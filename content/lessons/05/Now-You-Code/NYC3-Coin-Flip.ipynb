{
  "cells": [
    {
      "metadata": {},
      "cell_type": "markdown",
      "source": "# Now You Code 3: Coin Flips\n\nWrite a program to simulate 100,000 coin flips. The program should output\nthe tally of heads and tails across the number of flips.\n\nFor Example:\nAfter 100000 flips. Heads: 50030, Tails 49970\n\nOf course, since the flips are random, the counts will vary each time the program executes.\n\nYour strategy should be to use a loop to flip a coin 100,000 times.\nAfter you flip you should check for heads or tails and increment the count\naccordingly.\n\n### How do you make Python simulate a coin flip?"
    },
    {
      "metadata": {
        "trusted": true
      },
      "cell_type": "code",
      "source": "# Sample code which demostrates how to flip a coin in python\nimport random \ncoin = ['heads', 'tails']\nflip = random.choice(coin)\nprint(flip)",
      "execution_count": 1,
      "outputs": [
        {
          "output_type": "stream",
          "text": "heads\n",
          "name": "stdout"
        }
      ]
    },
    {
      "metadata": {},
      "cell_type": "markdown",
      "source": "Run the cell above a couple of times. Notice how each time you execute the code, it comes up as either `heads` or `tails`.\n\nHere's a breakdown of the code\n\n```\nline 1 imports the random module\nline 2 sets up a coin to have two choices heads or tails\nline 3 \"flips\" a coin by making a random choice among the values of the coin ('heads' or 'tails')\nline 4 prints the results of the coin flip.\n```\n\nNow that you understand how to simulate a coin flip a Python, try to design then write code for the program."
    },
    {
      "metadata": {
        "collapsed": true
      },
      "cell_type": "markdown",
      "source": "## Step 1: Problem Analysis \n\nInputs: Amount of times you want to flip the coin\n\nOutputs: Amount of times it was heads and tails\n\nAlgorithm (Steps in Program): create a loop where it executes as many times as you tell it to and then have it print how many times the coin was heads or tails.\n\n\n"
    },
    {
      "metadata": {
        "trusted": true
      },
      "cell_type": "code",
      "source": "coin = ['heads', 'tails']\n",
      "execution_count": 12,
      "outputs": []
    },
    {
      "metadata": {
        "trusted": true
      },
      "cell_type": "code",
      "source": "import random\nnumber = int(input(\"Enter the amount of times you want to flip the coin: \"))\nheads = 0\ntails = 0\nfor coin in range(number):\n    coin = ['heads', 'tails']\n    flip = random.choice(coin)\n    if flip=='heads':\n        heads = heads + 1\n    else:\n        tails = tails + 1 \nprint(\"Heads: %d, Tails: %d\" % (heads,tails))",
      "execution_count": 14,
      "outputs": [
        {
          "output_type": "stream",
          "name": "stdout",
          "text": "Enter the amount of times you want to flip the coin: 100000\nHeads: 49872, Tails: 50128\n"
        }
      ]
    },
    {
      "metadata": {},
      "cell_type": "markdown",
      "source": "## Step 3: Questions\n\n1. Which loop did you use to solve the problem? What is a definite or indefinite loop?\nFor loop. A definite loop is a loop where you know the exact number of iterations prior to entering the loop and an indefinite loop is where you don't know the exact number of iterations before entering the loop.\n2. Modify this program to allow you to input the number of times you would like to flip the coin. NOTE: if you enter a large number, the program could take a few minutes to execute. Be Patient!!!\n3. Explain how could this progam could be modified to track flipping a \"three\" sided coin with `heads`, `tails` and `foos` for example? Do not modify the code, only explain your strategy.\nIn the coin variable add foos and then print out how many times heads, tails, and foos is landed on instead of just heads and tails.\n"
    },
    {
      "metadata": {},
      "cell_type": "markdown",
      "source": "## Reminder of Evaluation Criteria\n\n1. What the problem attempted (analysis, code, and answered questions) ?\n2. What the problem analysis thought out? (does the program match the plan?)\n3. Does the code execute without syntax error?\n4. Does the code solve the intended problem?\n5. Is the code well written? (easy to understand, modular, and self-documenting, handles errors)\n"
    },
    {
      "metadata": {
        "collapsed": true,
        "trusted": false
      },
      "cell_type": "code",
      "source": "",
      "execution_count": null,
      "outputs": []
    }
  ],
  "metadata": {
    "anaconda-cloud": {},
    "kernelspec": {
      "name": "python3",
      "display_name": "Python 3",
      "language": "python"
    },
    "language_info": {
      "mimetype": "text/x-python",
      "nbconvert_exporter": "python",
      "name": "python",
      "pygments_lexer": "ipython3",
      "version": "3.5.4",
      "file_extension": ".py",
      "codemirror_mode": {
        "version": 3,
        "name": "ipython"
      }
    }
  },
  "nbformat": 4,
  "nbformat_minor": 1
}