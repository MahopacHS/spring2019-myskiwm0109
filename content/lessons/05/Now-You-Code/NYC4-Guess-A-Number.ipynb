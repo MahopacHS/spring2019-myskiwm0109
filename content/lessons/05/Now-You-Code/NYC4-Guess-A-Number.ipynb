{
  "cells": [
    {
      "metadata": {},
      "cell_type": "markdown",
      "source": "# Now You Code 4: Guess A Number\n\nWrite a program to play the classic \"Guess a number\" game.\n\nIn this game the computer selects a random number between 1 and 10.\nIt's your job to guess the number. Whenever you guess, the computer will\ngive you a hint of higher or lower. This process repeats until you guess\nthe number, after which the computer reports the number of guesses it took you.\n\nFor Example:\n\nI'm thinking of a number between 1 and 10...\nYour guess: 5\nToo low. Guess higher.\nYour guess: 7\nToo high. Guess lower.\nYour guess: 6\nYou guessed it in 3 tries.\n\nYour loop should continue until your input guess equals the\ncomputer generated random number.\n\n### How do you make Python generate a random number? "
    },
    {
      "metadata": {
        "trusted": true
      },
      "cell_type": "code",
      "source": "# Sample code which demostrates how to generate a number between 1 and 10\nimport random \nnumber = random.randint(1,10)\nprint(number)",
      "execution_count": 3,
      "outputs": [
        {
          "output_type": "stream",
          "text": "5\n",
          "name": "stdout"
        }
      ]
    },
    {
      "metadata": {},
      "cell_type": "markdown",
      "source": "Run the cell above a couple of times. Notice how each time you execute the code, it comes up with a different number. \n\nHere's a breakdown of the code\n\n```\nline 1 imports the random module\nline 2 randomly selects an integer between 1 and 10\nline 3 prints the number\n```\n\nNow that you understand how to generate a random number, try to design then write code for the program. The first step in your program should be to generate the random number."
    },
    {
      "metadata": {
        "collapsed": true
      },
      "cell_type": "markdown",
      "source": "## Step 1: Problem Analysis \n\nInputs: The persons guess\n\nOutputs: whether they were too high, too low, or if they got it, and how many tries it took\n\nAlgorithm (Steps in Program): make a loop so that the program keeps giving the user hints until they guess the number right\n\n\n"
    },
    {
      "metadata": {
        "trusted": true
      },
      "cell_type": "code",
      "source": "print(\"Im thinking of a number between 1 and 100: \")\ntries = 0\nimport random\nnumber = random.randint(1,100)\nwhile True:\n    guess = int(input(\"Enter a number: \"))\n    if guess == number:\n        tries = tries + 1\n        print(\"You got it! It took you %d tries\" % (tries))\n        break\n    if guess > number:\n        print(\"Too high! Guess lower\")\n        tries = tries + 1\n    if guess < number:\n        print(\"Too Low! Guess higher\")\n        tries = tries + 1",
      "execution_count": 4,
      "outputs": [
        {
          "output_type": "stream",
          "text": "Im thinking of a number between 1 and 100: \nEnter a number: 67\nToo high! Guess lower\nEnter a number: 45\nToo high! Guess lower\nEnter a number: 28\nToo Low! Guess higher\nEnter a number: 36\nToo high! Guess lower\nEnter a number: 31\nYou got it! It took you 5 tries\n",
          "name": "stdout"
        }
      ]
    },
    {
      "metadata": {},
      "cell_type": "markdown",
      "source": "###### Step 3: Questions\n\n1. Which loop did you use to solve the problem? What is a definite or indefinite loop?\nWhile true loop. A definite loop is a loop where you know the exact number of iterations prior to entering the loop and an indefinite loop is where you don't know the exact number of iterations before entering the loop.\n2. Modify this program to allow you to guess a number between 1 and 100. How much of your code did you need to change to make this work? \nI just needed to add one 0 to the 10 in the print line and the random number generator line.\n3. This program is a good example of a difficult problem to conceptualize which has a simple solution when you look at actual lines of code. I assume you did not write this in a single try, so explain where you got stuck and describe your approach to overcoming it.\nI put in two elif's and then realized later that I should try using just if's and that worked. Other than that everything else I got on my first try."
    },
    {
      "metadata": {},
      "cell_type": "markdown",
      "source": "## Reminder of Evaluation Criteria\n\n1. What the problem attempted (analysis, code, and answered questions) ?\n2. What the problem analysis thought out? (does the program match the plan?)\n3. Does the code execute without syntax error?\n4. Does the code solve the intended problem?\n5. Is the code well written? (easy to understand, modular, and self-documenting, handles errors)\n"
    },
    {
      "metadata": {
        "collapsed": true,
        "trusted": false
      },
      "cell_type": "code",
      "source": "",
      "execution_count": null,
      "outputs": []
    }
  ],
  "metadata": {
    "anaconda-cloud": {},
    "kernelspec": {
      "name": "python3",
      "display_name": "Python 3",
      "language": "python"
    }
  },
  "nbformat": 4,
  "nbformat_minor": 1
}