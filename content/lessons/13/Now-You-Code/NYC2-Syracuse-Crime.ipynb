{
  "cells": [
    {
      "metadata": {},
      "cell_type": "markdown",
      "source": "## Now You Code 2: Syracuse Crime Data\n\nIn this second now you code you will explore the plot.ly engine in detail using Syracuse, NY FBI crime data."
    },
    {
      "metadata": {
        "trusted": true
      },
      "cell_type": "code",
      "source": "import plotly.plotly as py    \nimport plotly.graph_objs as go  \nimport cufflinks as cf\nimport pandas as pd",
      "execution_count": 2,
      "outputs": []
    },
    {
      "metadata": {
        "trusted": true
      },
      "cell_type": "code",
      "source": "!pip install cufflinks\n!pip install plotly\n!pip install folium",
      "execution_count": 1,
      "outputs": [
        {
          "output_type": "stream",
          "text": "Collecting cufflinks\n  Using cached https://files.pythonhosted.org/packages/dd/c9/c6f3675387438929af73e1199c45a623205898bafeab5ccd713efe3b43c2/cufflinks-0.15.tar.gz\nRequirement already satisfied: numpy>=1.9.2 in /home/nbuser/anaconda3_420/lib/python3.5/site-packages (from cufflinks) (1.16.3)\nRequirement already satisfied: pandas>=0.19.2 in /home/nbuser/anaconda3_420/lib/python3.5/site-packages (from cufflinks) (0.19.2)\nRequirement already satisfied: plotly>=3.0.0 in /home/nbuser/anaconda3_420/lib/python3.5/site-packages (from cufflinks) (3.8.1)\nRequirement already satisfied: six>=1.9.0 in /home/nbuser/anaconda3_420/lib/python3.5/site-packages (from cufflinks) (1.11.0)\nCollecting colorlover>=0.2.1 (from cufflinks)\n  Downloading https://files.pythonhosted.org/packages/9a/53/f696e4480b1d1de3b1523991dea71cf417c8b19fe70c704da164f3f90972/colorlover-0.3.0-py3-none-any.whl\nRequirement already satisfied: setuptools>=34.4.1 in /home/nbuser/anaconda3_420/lib/python3.5/site-packages (from cufflinks) (41.0.1)\nRequirement already satisfied: ipython>=5.3.0 in /home/nbuser/anaconda3_420/lib/python3.5/site-packages (from cufflinks) (6.2.1)\nRequirement already satisfied: ipywidgets>=7.0.0 in /home/nbuser/anaconda3_420/lib/python3.5/site-packages (from cufflinks) (7.2.1)\nRequirement already satisfied: python-dateutil>=2 in /home/nbuser/anaconda3_420/lib/python3.5/site-packages (from pandas>=0.19.2->cufflinks) (2.7.5)\nRequirement already satisfied: pytz>=2011k in /home/nbuser/anaconda3_420/lib/python3.5/site-packages (from pandas>=0.19.2->cufflinks) (2016.6.1)\nRequirement already satisfied: nbformat>=4.2 in /home/nbuser/anaconda3_420/lib/python3.5/site-packages (from plotly>=3.0.0->cufflinks) (4.2.0)\nRequirement already satisfied: decorator>=4.0.6 in /home/nbuser/anaconda3_420/lib/python3.5/site-packages (from plotly>=3.0.0->cufflinks) (4.0.10)\nRequirement already satisfied: retrying>=1.3.3 in /home/nbuser/anaconda3_420/lib/python3.5/site-packages (from plotly>=3.0.0->cufflinks) (1.3.3)\nRequirement already satisfied: requests in /home/nbuser/anaconda3_420/lib/python3.5/site-packages (from plotly>=3.0.0->cufflinks) (2.14.2)\nRequirement already satisfied: jedi>=0.10 in /home/nbuser/anaconda3_420/lib/python3.5/site-packages (from ipython>=5.3.0->cufflinks) (0.11.0)\nRequirement already satisfied: pickleshare in /home/nbuser/anaconda3_420/lib/python3.5/site-packages (from ipython>=5.3.0->cufflinks) (0.7.4)\nRequirement already satisfied: simplegeneric>0.8 in /home/nbuser/anaconda3_420/lib/python3.5/site-packages (from ipython>=5.3.0->cufflinks) (0.8.1)\nRequirement already satisfied: traitlets>=4.2 in /home/nbuser/anaconda3_420/lib/python3.5/site-packages (from ipython>=5.3.0->cufflinks) (4.3.1)\nRequirement already satisfied: prompt_toolkit<2.0.0,>=1.0.4 in /home/nbuser/anaconda3_420/lib/python3.5/site-packages (from ipython>=5.3.0->cufflinks) (1.0.15)\nRequirement already satisfied: pygments in /home/nbuser/anaconda3_420/lib/python3.5/site-packages (from ipython>=5.3.0->cufflinks) (2.1.3)\nRequirement already satisfied: pexpect in /home/nbuser/anaconda3_420/lib/python3.5/site-packages (from ipython>=5.3.0->cufflinks) (4.0.1)\nRequirement already satisfied: ipykernel>=4.5.1 in /home/nbuser/anaconda3_420/lib/python3.5/site-packages (from ipywidgets>=7.0.0->cufflinks) (4.7.0)\nRequirement already satisfied: widgetsnbextension~=3.2.0 in /home/nbuser/anaconda3_420/lib/python3.5/site-packages (from ipywidgets>=7.0.0->cufflinks) (3.2.0)\nRequirement already satisfied: parso==0.1.* in /home/nbuser/anaconda3_420/lib/python3.5/site-packages (from jedi>=0.10->ipython>=5.3.0->cufflinks) (0.1.1)\nRequirement already satisfied: wcwidth in /home/nbuser/anaconda3_420/lib/python3.5/site-packages (from prompt_toolkit<2.0.0,>=1.0.4->ipython>=5.3.0->cufflinks) (0.1.7)\nRequirement already satisfied: jupyter_client in /home/nbuser/anaconda3_420/lib/python3.5/site-packages (from ipykernel>=4.5.1->ipywidgets>=7.0.0->cufflinks) (5.1.0)\nRequirement already satisfied: tornado>=4.0 in /home/nbuser/anaconda3_420/lib/python3.5/site-packages (from ipykernel>=4.5.1->ipywidgets>=7.0.0->cufflinks) (4.4.1)\nRequirement already satisfied: notebook>=4.4.1 in /home/nbuser/anaconda3_420/lib/python3.5/site-packages (from widgetsnbextension~=3.2.0->ipywidgets>=7.0.0->cufflinks) (5.0.0)\nRequirement already satisfied: jupyter_core in /home/nbuser/anaconda3_420/lib/python3.5/site-packages (from jupyter_client->ipykernel>=4.5.1->ipywidgets>=7.0.0->cufflinks) (4.4.0)\nRequirement already satisfied: pyzmq>=13 in /home/nbuser/anaconda3_420/lib/python3.5/site-packages (from jupyter_client->ipykernel>=4.5.1->ipywidgets>=7.0.0->cufflinks) (15.4.0)\nBuilding wheels for collected packages: cufflinks\n  Building wheel for cufflinks (setup.py) ... \u001b[?25ldone\n\u001b[?25h  Stored in directory: /home/nbuser/.cache/pip/wheels/c7/7f/d3/7d3146a1551614bf0b8eb631ac724d044dd341679e763b594b\nSuccessfully built cufflinks\nInstalling collected packages: colorlover, cufflinks\nSuccessfully installed colorlover-0.3.0 cufflinks-0.15\n\u001b[33mWARNING: You are using pip version 19.1, however version 19.1.1 is available.\nYou should consider upgrading via the 'pip install --upgrade pip' command.\u001b[0m\nRequirement already satisfied: plotly in /home/nbuser/anaconda3_420/lib/python3.5/site-packages (3.8.1)\nRequirement already satisfied: six in /home/nbuser/anaconda3_420/lib/python3.5/site-packages (from plotly) (1.11.0)\nRequirement already satisfied: decorator>=4.0.6 in /home/nbuser/anaconda3_420/lib/python3.5/site-packages (from plotly) (4.0.10)\nRequirement already satisfied: requests in /home/nbuser/anaconda3_420/lib/python3.5/site-packages (from plotly) (2.14.2)\nRequirement already satisfied: nbformat>=4.2 in /home/nbuser/anaconda3_420/lib/python3.5/site-packages (from plotly) (4.2.0)\nRequirement already satisfied: pytz in /home/nbuser/anaconda3_420/lib/python3.5/site-packages (from plotly) (2016.6.1)\nRequirement already satisfied: retrying>=1.3.3 in /home/nbuser/anaconda3_420/lib/python3.5/site-packages (from plotly) (1.3.3)\n\u001b[33mWARNING: You are using pip version 19.1, however version 19.1.1 is available.\nYou should consider upgrading via the 'pip install --upgrade pip' command.\u001b[0m\nCollecting folium\n\u001b[?25l  Downloading https://files.pythonhosted.org/packages/4f/86/1ab30184cb60bc2b95deffe2bd86b8ddbab65a4fac9f7313c278c6e8d049/folium-0.9.1-py2.py3-none-any.whl (91kB)\n\u001b[K     |████████████████████████████████| 92kB 3.9MB/s eta 0:00:011\n\u001b[?25hRequirement already satisfied: requests in /home/nbuser/anaconda3_420/lib/python3.5/site-packages (from folium) (2.14.2)\nCollecting branca>=0.3.0 (from folium)\n  Downloading https://files.pythonhosted.org/packages/63/36/1c93318e9653f4e414a2e0c3b98fc898b4970e939afeedeee6075dd3b703/branca-0.3.1-py3-none-any.whl\nRequirement already satisfied: numpy in /home/nbuser/anaconda3_420/lib/python3.5/site-packages (from folium) (1.16.3)\nCollecting jinja2>=2.9 (from folium)\n  Using cached https://files.pythonhosted.org/packages/1d/e7/fd8b501e7a6dfe492a433deb7b9d833d39ca74916fa8bc63dd1a4947a671/Jinja2-2.10.1-py2.py3-none-any.whl\nRequirement already satisfied: six in /home/nbuser/anaconda3_420/lib/python3.5/site-packages (from branca>=0.3.0->folium) (1.11.0)\nRequirement already satisfied: MarkupSafe>=0.23 in /home/nbuser/anaconda3_420/lib/python3.5/site-packages (from jinja2>=2.9->folium) (0.23)\nInstalling collected packages: jinja2, branca, folium\n  Found existing installation: Jinja2 2.8\n    Uninstalling Jinja2-2.8:\n      Successfully uninstalled Jinja2-2.8\nSuccessfully installed branca-0.3.1 folium-0.9.1 jinja2-2.10.1\n\u001b[33mWARNING: You are using pip version 19.1, however version 19.1.1 is available.\nYou should consider upgrading via the 'pip install --upgrade pip' command.\u001b[0m\n",
          "name": "stdout"
        }
      ]
    },
    {
      "metadata": {
        "trusted": true
      },
      "cell_type": "code",
      "source": "crime = pd.read_csv('https://raw.githubusercontent.com/mafudge/datasets/master/crime/syracuse-crime-data-1985-2012.csv')\ncrime.sample(10)",
      "execution_count": 3,
      "outputs": [
        {
          "output_type": "execute_result",
          "execution_count": 3,
          "data": {
            "text/html": "<div>\n<table border=\"1\" class=\"dataframe\">\n  <thead>\n    <tr style=\"text-align: right;\">\n      <th></th>\n      <th>Year</th>\n      <th>Months</th>\n      <th>Population</th>\n      <th>Violent crime total</th>\n      <th>Murder and nonnegligent Manslaughter</th>\n      <th>Forcible rape</th>\n      <th>Robbery</th>\n      <th>Aggravated assault</th>\n      <th>Property crime total</th>\n      <th>Burglary</th>\n      <th>...</th>\n      <th>Violent Crime rate</th>\n      <th>Murder and nonnegligent manslaughter rate</th>\n      <th>Forcible rape rate</th>\n      <th>Robbery rate</th>\n      <th>Aggravated assault rate</th>\n      <th>Property crime rate</th>\n      <th>Burglary rate</th>\n      <th>Larceny-theft rate</th>\n      <th>Motor vehicle theft rate</th>\n      <th>Unnamed: 21</th>\n    </tr>\n  </thead>\n  <tbody>\n    <tr>\n      <th>25</th>\n      <td>2010</td>\n      <td>12</td>\n      <td>145170</td>\n      <td>1291</td>\n      <td>15</td>\n      <td>68</td>\n      <td>377</td>\n      <td>831</td>\n      <td>5708</td>\n      <td>2174</td>\n      <td>...</td>\n      <td>889.3</td>\n      <td>10.3</td>\n      <td>46.8</td>\n      <td>259.7</td>\n      <td>572.4</td>\n      <td>3931.9</td>\n      <td>1497.6</td>\n      <td>2181.6</td>\n      <td>252.8</td>\n      <td>NaN</td>\n    </tr>\n    <tr>\n      <th>10</th>\n      <td>1995</td>\n      <td>12</td>\n      <td>159603</td>\n      <td>1467</td>\n      <td>18</td>\n      <td>84</td>\n      <td>633</td>\n      <td>732</td>\n      <td>9873</td>\n      <td>3048</td>\n      <td>...</td>\n      <td>919.2</td>\n      <td>11.3</td>\n      <td>52.6</td>\n      <td>396.6</td>\n      <td>458.6</td>\n      <td>6186.0</td>\n      <td>1909.7</td>\n      <td>3779.4</td>\n      <td>496.9</td>\n      <td>NaN</td>\n    </tr>\n    <tr>\n      <th>14</th>\n      <td>1999</td>\n      <td>12</td>\n      <td>152393</td>\n      <td>1439</td>\n      <td>9</td>\n      <td>47</td>\n      <td>483</td>\n      <td>900</td>\n      <td>7429</td>\n      <td>2016</td>\n      <td>...</td>\n      <td>944.3</td>\n      <td>5.9</td>\n      <td>30.8</td>\n      <td>316.9</td>\n      <td>590.6</td>\n      <td>4874.9</td>\n      <td>1322.9</td>\n      <td>3059.9</td>\n      <td>492.1</td>\n      <td>NaN</td>\n    </tr>\n    <tr>\n      <th>6</th>\n      <td>1991</td>\n      <td>12</td>\n      <td>164474</td>\n      <td>1559</td>\n      <td>13</td>\n      <td>86</td>\n      <td>608</td>\n      <td>852</td>\n      <td>11148</td>\n      <td>3328</td>\n      <td>...</td>\n      <td>947.9</td>\n      <td>7.9</td>\n      <td>52.3</td>\n      <td>369.7</td>\n      <td>518.0</td>\n      <td>6778.0</td>\n      <td>2023.4</td>\n      <td>4321.7</td>\n      <td>432.9</td>\n      <td>NaN</td>\n    </tr>\n    <tr>\n      <th>7</th>\n      <td>1992</td>\n      <td>12</td>\n      <td>165029</td>\n      <td>1512</td>\n      <td>13</td>\n      <td>85</td>\n      <td>645</td>\n      <td>769</td>\n      <td>10326</td>\n      <td>3023</td>\n      <td>...</td>\n      <td>916.2</td>\n      <td>7.9</td>\n      <td>51.5</td>\n      <td>390.8</td>\n      <td>466.0</td>\n      <td>6257.1</td>\n      <td>1831.8</td>\n      <td>4016.9</td>\n      <td>408.4</td>\n      <td>NaN</td>\n    </tr>\n    <tr>\n      <th>26</th>\n      <td>2011</td>\n      <td>12</td>\n      <td>145822</td>\n      <td>1302</td>\n      <td>11</td>\n      <td>63</td>\n      <td>388</td>\n      <td>840</td>\n      <td>5275</td>\n      <td>1705</td>\n      <td>...</td>\n      <td>892.9</td>\n      <td>7.5</td>\n      <td>43.2</td>\n      <td>266.1</td>\n      <td>576.0</td>\n      <td>3617.4</td>\n      <td>1169.2</td>\n      <td>2236.3</td>\n      <td>211.9</td>\n      <td>NaN</td>\n    </tr>\n    <tr>\n      <th>21</th>\n      <td>2006</td>\n      <td>12</td>\n      <td>142062</td>\n      <td>1515</td>\n      <td>12</td>\n      <td>66</td>\n      <td>534</td>\n      <td>903</td>\n      <td>6677</td>\n      <td>1904</td>\n      <td>...</td>\n      <td>1066.4</td>\n      <td>8.4</td>\n      <td>46.5</td>\n      <td>375.9</td>\n      <td>635.6</td>\n      <td>4700.1</td>\n      <td>1340.3</td>\n      <td>2841.7</td>\n      <td>518.1</td>\n      <td>NaN</td>\n    </tr>\n    <tr>\n      <th>2</th>\n      <td>1987</td>\n      <td>12</td>\n      <td>161228</td>\n      <td>1158</td>\n      <td>14</td>\n      <td>87</td>\n      <td>494</td>\n      <td>563</td>\n      <td>12120</td>\n      <td>4721</td>\n      <td>...</td>\n      <td>718.2</td>\n      <td>8.7</td>\n      <td>54.0</td>\n      <td>306.4</td>\n      <td>349.2</td>\n      <td>7517.3</td>\n      <td>2928.2</td>\n      <td>4240.0</td>\n      <td>349.2</td>\n      <td>NaN</td>\n    </tr>\n    <tr>\n      <th>8</th>\n      <td>1993</td>\n      <td>12</td>\n      <td>163626</td>\n      <td>1361</td>\n      <td>18</td>\n      <td>79</td>\n      <td>561</td>\n      <td>703</td>\n      <td>9754</td>\n      <td>2824</td>\n      <td>...</td>\n      <td>831.8</td>\n      <td>11.0</td>\n      <td>48.3</td>\n      <td>342.9</td>\n      <td>429.6</td>\n      <td>5961.2</td>\n      <td>1725.9</td>\n      <td>3885.7</td>\n      <td>349.6</td>\n      <td>NaN</td>\n    </tr>\n    <tr>\n      <th>5</th>\n      <td>1990</td>\n      <td>12</td>\n      <td>163860</td>\n      <td>1400</td>\n      <td>14</td>\n      <td>118</td>\n      <td>494</td>\n      <td>774</td>\n      <td>9914</td>\n      <td>2999</td>\n      <td>...</td>\n      <td>854.4</td>\n      <td>8.5</td>\n      <td>72.0</td>\n      <td>301.5</td>\n      <td>472.4</td>\n      <td>6050.3</td>\n      <td>1830.2</td>\n      <td>3860.6</td>\n      <td>359.5</td>\n      <td>NaN</td>\n    </tr>\n  </tbody>\n</table>\n<p>10 rows × 22 columns</p>\n</div>",
            "text/plain": "    Year  Months  Population  Violent crime total  \\\n25  2010      12      145170                 1291   \n10  1995      12      159603                 1467   \n14  1999      12      152393                 1439   \n6   1991      12      164474                 1559   \n7   1992      12      165029                 1512   \n26  2011      12      145822                 1302   \n21  2006      12      142062                 1515   \n2   1987      12      161228                 1158   \n8   1993      12      163626                 1361   \n5   1990      12      163860                 1400   \n\n    Murder and nonnegligent Manslaughter  Forcible rape  Robbery  \\\n25                                    15             68      377   \n10                                    18             84      633   \n14                                     9             47      483   \n6                                     13             86      608   \n7                                     13             85      645   \n26                                    11             63      388   \n21                                    12             66      534   \n2                                     14             87      494   \n8                                     18             79      561   \n5                                     14            118      494   \n\n    Aggravated assault  Property crime total  Burglary     ...       \\\n25                 831                  5708      2174     ...        \n10                 732                  9873      3048     ...        \n14                 900                  7429      2016     ...        \n6                  852                 11148      3328     ...        \n7                  769                 10326      3023     ...        \n26                 840                  5275      1705     ...        \n21                 903                  6677      1904     ...        \n2                  563                 12120      4721     ...        \n8                  703                  9754      2824     ...        \n5                  774                  9914      2999     ...        \n\n    Violent Crime rate  Murder and nonnegligent manslaughter rate  \\\n25               889.3                                       10.3   \n10               919.2                                       11.3   \n14               944.3                                        5.9   \n6                947.9                                        7.9   \n7                916.2                                        7.9   \n26               892.9                                        7.5   \n21              1066.4                                        8.4   \n2                718.2                                        8.7   \n8                831.8                                       11.0   \n5                854.4                                        8.5   \n\n    Forcible rape rate  Robbery rate  Aggravated assault rate  \\\n25                46.8         259.7                    572.4   \n10                52.6         396.6                    458.6   \n14                30.8         316.9                    590.6   \n6                 52.3         369.7                    518.0   \n7                 51.5         390.8                    466.0   \n26                43.2         266.1                    576.0   \n21                46.5         375.9                    635.6   \n2                 54.0         306.4                    349.2   \n8                 48.3         342.9                    429.6   \n5                 72.0         301.5                    472.4   \n\n    Property crime rate  Burglary rate  Larceny-theft rate  \\\n25               3931.9         1497.6              2181.6   \n10               6186.0         1909.7              3779.4   \n14               4874.9         1322.9              3059.9   \n6                6778.0         2023.4              4321.7   \n7                6257.1         1831.8              4016.9   \n26               3617.4         1169.2              2236.3   \n21               4700.1         1340.3              2841.7   \n2                7517.3         2928.2              4240.0   \n8                5961.2         1725.9              3885.7   \n5                6050.3         1830.2              3860.6   \n\n    Motor vehicle theft rate  Unnamed: 21  \n25                     252.8          NaN  \n10                     496.9          NaN  \n14                     492.1          NaN  \n6                      432.9          NaN  \n7                      408.4          NaN  \n26                     211.9          NaN  \n21                     518.1          NaN  \n2                      349.2          NaN  \n8                      349.6          NaN  \n5                      359.5          NaN  \n\n[10 rows x 22 columns]"
          },
          "metadata": {}
        }
      ]
    },
    {
      "metadata": {
        "trusted": true
      },
      "cell_type": "code",
      "source": "# Make a line plot of population over the years, using cufflinks crime.iplot()\n# set the titles on x \"Year, Y \"Population\" and cart title \" Syracuse Population\" \n# TODO: replace the ???? with appropriate values to render the chart\ncrime.iplot(kind = 'scatter', x = 'Year', y = 'Population', title='Syracuse Population',xTitle='Year',yTitle='Population')",
      "execution_count": 4,
      "outputs": [
        {
          "output_type": "execute_result",
          "execution_count": 4,
          "data": {
            "text/html": "<iframe id=\"igraph\" scrolling=\"no\" style=\"border:none;\" seamless=\"seamless\" src=\"https://plot.ly/~mmyskiw0109/4.embed\" height=\"525px\" width=\"100%\"></iframe>",
            "text/plain": "<chart_studio.tools.PlotlyDisplay object>"
          },
          "metadata": {}
        }
      ]
    },
    {
      "metadata": {
        "trusted": true
      },
      "cell_type": "code",
      "source": "# Step 1:\n# Now plot the same thing using plot.ly without cufflinks, again filling in the templates. Using plot.ly takes more effort but\n# you have more control / flexibility over how the plots are rendered.\nplot_data = [\n    go.Scatter(x=crime['Year'], y=crime['Population'], mode=\"lines+markers\", name=\"Robbery\", marker=dict(color='red')),\n]\n\npy.iplot({ 'data': plot_data,\n            'layout': {\n               'title': 'Syracuse Population',\n               'xaxis': {\n                 'title': 'Year'},\n               'yaxis': {\n                'title': 'Population'}\n        }})",
      "execution_count": 5,
      "outputs": [
        {
          "output_type": "execute_result",
          "execution_count": 5,
          "data": {
            "text/html": "<iframe id=\"igraph\" scrolling=\"no\" style=\"border:none;\" seamless=\"seamless\" src=\"https://plot.ly/~mmyskiw0109/6.embed\" height=\"525px\" width=\"100%\"></iframe>",
            "text/plain": "<chart_studio.tools.PlotlyDisplay object>"
          },
          "metadata": {}
        }
      ]
    },
    {
      "metadata": {
        "trusted": true
      },
      "cell_type": "code",
      "source": "# Step 2:\n# Now create a line plot of \"Robbery rate\" versus \"Motor vehicle theft rate\" over time.\n# NOTE: you will need two series in your plot_data \ncrime.iplot(kind = 'scatter', x = 'Robbery', y = 'Motor vehicle theft rate', title='Syracuse Population',xTitle='robbery',yTitle='motor')",
      "execution_count": 6,
      "outputs": [
        {
          "output_type": "execute_result",
          "execution_count": 6,
          "data": {
            "text/html": "<iframe id=\"igraph\" scrolling=\"no\" style=\"border:none;\" seamless=\"seamless\" src=\"https://plot.ly/~mmyskiw0109/4.embed\" height=\"525px\" width=\"100%\"></iframe>",
            "text/plain": "<chart_studio.tools.PlotlyDisplay object>"
          },
          "metadata": {}
        }
      ]
    },
    {
      "metadata": {},
      "cell_type": "markdown",
      "source": "# Interactive Plots\n\nFinally write a program to ask for a crime metric like \"Robbery\" / \"Burglary\" / \"Manslaughter\" etc as input, \nthen renders a plot of that metric over time as output !\n\nNote: check to make sure the entered crime metric is in the list of Pandas columns before you attempt to plot. \nIt might be a good idea to print the column names before you plot.\nif it is not you should print \"That is not a crime metric\"\n\n"
    },
    {
      "metadata": {},
      "cell_type": "markdown",
      "source": "## Step 3: Problem Analysis\n\nInputs:\n\nOutputs:\n\nAlgorithm (Steps in Program):\n"
    },
    {
      "metadata": {
        "trusted": false
      },
      "cell_type": "code",
      "source": "## Step 4: Write code here\n\n",
      "execution_count": null,
      "outputs": []
    },
    {
      "metadata": {},
      "cell_type": "markdown",
      "source": "## Reminder of Evaluation Criteria\n\n1. What the problem attempted (analysis, code, and answered questions) ?\n2. What the problem analysis thought out? (does the program match the plan?)\n3. Does the code execute without syntax error?\n4. Does the code solve the intended problem?\n5. Is the code well written? (easy to understand, modular, and self-documenting, handles errors)\n"
    },
    {
      "metadata": {
        "collapsed": true,
        "trusted": false
      },
      "cell_type": "code",
      "source": "",
      "execution_count": null,
      "outputs": []
    }
  ],
  "metadata": {
    "anaconda-cloud": {},
    "kernelspec": {
      "name": "python3",
      "display_name": "Python 3",
      "language": "python"
    },
    "language_info": {
      "mimetype": "text/x-python",
      "nbconvert_exporter": "python",
      "name": "python",
      "pygments_lexer": "ipython3",
      "version": "3.5.4",
      "file_extension": ".py",
      "codemirror_mode": {
        "version": 3,
        "name": "ipython"
      }
    }
  },
  "nbformat": 4,
  "nbformat_minor": 1
}