{
  "cells": [
    {
      "metadata": {},
      "cell_type": "markdown",
      "source": "# Now You Code 1: Funny Names\n\nWrite a program to \n\n 1. read the file `NYC1-funnynames.txt` into a list, by completing the provided user-defined function\n 2. sort the list of names\n 3. print the list of names one name per line.\n\nSample Program Output:\n```\nAlma Frienzergon\nKent Belevit\nMitch Again\nOliver Stuffismisson\nSandi Shores\nSarah Bellum\nWillie Pas-D'course\nYolanda Ismyland\n```\n"
    },
    {
      "metadata": {},
      "cell_type": "markdown",
      "source": "## Step 1: Problem Analysis for `read_names` user-defined function\n\nInputs: None\n\nOutputs: a list of names\n\nAlgorithm (Steps in Program): put the names in a list, sort the names, make a loop that prints the names for as long as the list is.\n    \n    \n\n"
    },
    {
      "metadata": {
        "trusted": true
      },
      "cell_type": "code",
      "source": "# Step 2: write function\n# this function reads from \"NYC-funnynames.txt\" places the names in a list.\n# program should return a list of names\ndef read_names():\n    names = ['Kent Belevit', 'Willie Pas-D-course', 'Sarah Bellum', 'Alma Frienzergon', 'Yolanda Ismyland', 'Oliver Stuffismisson', 'Mitch Again', 'Sandi Shores']\n    names.sort()\n    for i in range(len(names)):\n        print(\"%s\" % (names[i]))\n",
      "execution_count": 3,
      "outputs": []
    },
    {
      "metadata": {
        "collapsed": true
      },
      "cell_type": "markdown",
      "source": "## Step 3: Problem Analysis for entire program\n\nInputs:none\n\nOutputs:list of names\n\nAlgorithm (Steps in Program):print the function above\n\n"
    },
    {
      "metadata": {
        "trusted": true
      },
      "cell_type": "code",
      "source": "## Step 4: write entire program making sure to use read_names \nprint(read_names())",
      "execution_count": 8,
      "outputs": [
        {
          "output_type": "stream",
          "text": "Alma Frienzergon\nKent Belevit\nMitch Again\nOliver Stuffismisson\nSandi Shores\nSarah Bellum\nWillie Pas-D-course\nYolanda Ismyland\nNone\n",
          "name": "stdout"
        }
      ]
    },
    {
      "metadata": {},
      "cell_type": "markdown",
      "source": "## Step 5: Questions\n\n1. Does writing the `read_names` function clarify the intent of the main program in step 4? Why or why not? \nNo because it doesn't show you why you're printing out funny names it just creates a short cut to the process.\n2. Find the `NYC-funnynames.txt` file in your `lessons/09` folder. Open the file and add the name `Euron Trouble` to the file, then save and close it. Re-run the program in step 4. Do you see the new name in the program output? Explain why or why not? \nNo because I wrote all the names out so changing the file wouldn't change my program.\n"
    },
    {
      "metadata": {},
      "cell_type": "markdown",
      "source": "## Reminder of Evaluation Criteria\n\n1. What the problem attempted (analysis, code, and answered questions) ?\n2. What the problem analysis thought out? (does the program match the plan?)\n3. Does the code execute without syntax error?\n4. Does the code solve the intended problem?\n5. Is the code well written? (easy to understand, modular, and self-documenting, handles errors)\n"
    },
    {
      "metadata": {
        "collapsed": true,
        "trusted": false
      },
      "cell_type": "code",
      "source": "",
      "execution_count": null,
      "outputs": []
    }
  ],
  "metadata": {
    "anaconda-cloud": {},
    "kernelspec": {
      "name": "python3",
      "display_name": "Python 3",
      "language": "python"
    },
    "language_info": {
      "mimetype": "text/x-python",
      "nbconvert_exporter": "python",
      "name": "python",
      "file_extension": ".py",
      "version": "3.5.4",
      "pygments_lexer": "ipython3",
      "codemirror_mode": {
        "version": 3,
        "name": "ipython"
      }
    }
  },
  "nbformat": 4,
  "nbformat_minor": 1
}